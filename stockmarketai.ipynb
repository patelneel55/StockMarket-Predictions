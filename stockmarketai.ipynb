{
 "nbformat": 4,
 "nbformat_minor": 2,
 "metadata": {
  "language_info": {
   "name": "python",
   "codemirror_mode": {
    "name": "ipython",
    "version": 3
   },
   "version": "3.6.9-final"
  },
  "orig_nbformat": 2,
  "file_extension": ".py",
  "mimetype": "text/x-python",
  "name": "python",
  "npconvert_exporter": "python",
  "pygments_lexer": "ipython3",
  "version": 3,
  "kernelspec": {
   "name": "python36964bite80dfb4df88d4ad880f434ea722d8ae8",
   "display_name": "Python 3.6.9 64-bit"
  }
 },
 "cells": [
  {
   "cell_type": "code",
   "execution_count": null,
   "metadata": {},
   "outputs": [],
   "source": [
    "# These values can be changed to the requested ticker and parameters \n",
    "\n",
    "ticker = 'GS'\n",
    "from_date = '2010-01-01'\n",
    "to_date = '2018-12-31'\n",
    "type = 'line'"
   ]
  },
  {
   "cell_type": "code",
   "execution_count": null,
   "metadata": {
    "tags": [
     "outputPrepend"
    ]
   },
   "outputs": [],
   "source": [
    "from urllib.request import urlopen\n",
    "import json\n",
    "\n",
    "# Get JSON data from the requested url\n",
    "def get_json_data(url):\n",
    "    response = urlopen(url)\n",
    "    response = response.read().decode(\"utf-8\")\n",
    "    return json.loads(response)\n",
    "\n",
    "# Conver the provided parameters into FMP url\n",
    "def get_url(ticker, from_date = None, to_date = None, type = None):\n",
    "    url = \"https://financialmodelingprep.com/api/v3/historical-price-full/\" + ticker + \"?\"\n",
    "    \n",
    "    if from_date != None:\n",
    "        url += 'from=' + from_date + \"&\"\n",
    "    if to_date != None:\n",
    "        url += 'to=' + to_date + '&'\n",
    "    if type != None:\n",
    "        url += 'serietype=' + type + '&'\n",
    "\n",
    "    return url[:-1]\n",
    "\n",
    "json_data = get_json_data(get_url(ticker, from_date, to_date, type))\n",
    "print(json_data)"
   ]
  },
  {
   "cell_type": "code",
   "execution_count": null,
   "metadata": {},
   "outputs": [],
   "source": []
  }
 ]
}